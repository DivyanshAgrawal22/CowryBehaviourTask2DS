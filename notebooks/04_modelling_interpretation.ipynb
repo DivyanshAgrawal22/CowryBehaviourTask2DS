{
 "cells": [
  {
   "cell_type": "markdown",
   "metadata": {},
   "source": [
    "# Modelling the Sentiment Analysis + Interpretation"
   ]
  },
  {
   "cell_type": "markdown",
   "metadata": {},
   "source": [
    "## 1. Necessary Imports"
   ]
  },
  {
   "cell_type": "code",
   "execution_count": 1,
   "metadata": {},
   "outputs": [],
   "source": [
    "import pandas as pd\n",
    "import numpy as np\n",
    "from sklearn.model_selection import train_test_split\n",
    "from sklearn.ensemble import RandomForestClassifier\n",
    "from sklearn.linear_model import LogisticRegression, LinearRegression\n",
    "from sklearn.metrics import classification_report, confusion_matrix, accuracy_score, roc_auc_score, f1_score, precision_score, recall_score, roc_curve\n",
    "import shap\n",
    "from scipy import stats\n",
    "import matplotlib.pyplot as plt\n",
    "import seaborn as sns\n",
    "\n",
    "import sys\n",
    "sys.path.append('../')\n",
    "import config\n",
    "from utils import load_processed_data, save_processed_data, print_section_header, setup_plotting_style, save_figure, statistical_comparison"
   ]
  },
  {
   "cell_type": "markdown",
   "metadata": {},
   "source": [
    "## 2. Data Loading"
   ]
  },
  {
   "cell_type": "code",
   "execution_count": 2,
   "metadata": {},
   "outputs": [
    {
     "name": "stdout",
     "output_type": "stream",
     "text": [
      "Loaded processed data: ../data/processed/sentiment_data.csv\n",
      "Loaded processed data: ../data/processed/topic_results.pkl\n",
      "Loaded 422 responses with sentiment scores\n",
      "Available columns: ['treatment', 'segment', 'group', 'VOLT_FLAG', 'SCORE', 'cleaned_comment', 'date_converted', 'month', 'SALES_PERSON_SAT', 'SALES_FRIENDLY_SAT', 'COMMINICATION_SAT', 'FIRST_BILL_SAT', 'AGENT_KNOWLEDGE', 'sentiment_textblob', 'sentiment_category', 'assigned_topic', 'meaningful_topic']\n",
      "\n",
      "Data completeness:\n",
      "  Sentiment scores: 422\n",
      "  Topic assignments: 422\n",
      "  Meaningful topics: 289\n",
      "\n",
      "Group distribution:\n",
      "group\n",
      "Non-VOLT_control    132\n",
      "Non-VOLT_pilot      120\n",
      "VOLT_control        115\n",
      "VOLT_pilot           55\n",
      "Name: count, dtype: int64\n"
     ]
    }
   ],
   "source": [
    "# Load data from previous notebooks\n",
    "df = load_processed_data('sentiment_data.csv')\n",
    "topic_results = load_processed_data('topic_results.pkl')\n",
    "\n",
    "print(f\"Loaded {len(df)} responses with sentiment scores\")\n",
    "print(f\"Available columns: {df.columns.tolist()}\")\n",
    "\n",
    "# Check data completeness\n",
    "print(f\"\\nData completeness:\")\n",
    "print(f\"  Sentiment scores: {df['sentiment_textblob'].notna().sum()}\")\n",
    "print(f\"  Topic assignments: {df['assigned_topic'].notna().sum()}\")\n",
    "print(f\"  Meaningful topics: {df['meaningful_topic'].sum()}\")\n",
    "\n",
    "print(\"\\nGroup distribution:\")\n",
    "print(df['group'].value_counts())"
   ]
  },
  {
   "cell_type": "code",
   "execution_count": 3,
   "metadata": {},
   "outputs": [
    {
     "name": "stdout",
     "output_type": "stream",
     "text": [
      "Modeling dataset: 289 documents\n",
      "Excluded documents: 133\n",
      "\n",
      "Sentiment distribution for modeling:\n",
      "count    289.000000\n",
      "mean       0.313497\n",
      "std        0.352462\n",
      "min       -0.875000\n",
      "25%        0.000000\n",
      "50%        0.350000\n",
      "75%        0.587500\n",
      "max        1.000000\n",
      "Name: sentiment_textblob, dtype: float64\n"
     ]
    }
   ],
   "source": [
    "# Setup plotting\n",
    "setup_plotting_style()\n",
    "\n",
    "# Focus on documents with both sentiment and topic data\n",
    "modeling_df = df[df['sentiment_textblob'].notna() & df['meaningful_topic']].copy()\n",
    "\n",
    "print(f\"Modeling dataset: {len(modeling_df)} documents\")\n",
    "print(f\"Excluded documents: {len(df) - len(modeling_df)}\")\n",
    "\n",
    "# Check sentiment distribution for modeling\n",
    "print(f\"\\nSentiment distribution for modeling:\")\n",
    "print(modeling_df['sentiment_textblob'].describe())"
   ]
  },
  {
   "cell_type": "markdown",
   "metadata": {},
   "source": [
    "The threshold for identifying positive is kept as 0.1 because the TextBlob scores I calculated in `03_sentiment_anlsysis.ipynb` ranges in -1 to 1 with 0 being neutral. To be consistent with that analysis, I will mark anything above 0.1 as positive and below -0.1 as negative.\n",
    "\n",
    "However, for the values in between (neutrals), they could either be dropped or kept in one of the categories. I added the neutral comments to the negative ones. I have 2 reasons for this:\n",
    "\n",
    "1. From a business's perspective, neutral comments might also need attention like negative ones.\n",
    "2. There were absolutely very few negative examples for negatives which created a high imbalance between positive and negative, this helps cure that a bit."
   ]
  },
  {
   "cell_type": "code",
   "execution_count": 4,
   "metadata": {},
   "outputs": [
    {
     "name": "stdout",
     "output_type": "stream",
     "text": [
      "\n",
      "Class distribution:\n",
      "  Negative (0): 92 (31.8%)\n",
      "  Positive (1): 197 (68.2%)\n",
      "  Imbalance ratio (pos/neg): 2.14\n"
     ]
    }
   ],
   "source": [
    "# Convert continuous sentiment to binary classification\n",
    "# Using threshold of 0.1\n",
    "modeling_df['sentiment_positive'] = (modeling_df['sentiment_textblob'] > 0.1).astype(int)\n",
    "\n",
    "# Check class distribution\n",
    "class_dist = modeling_df['sentiment_positive'].value_counts()\n",
    "print(f\"\\nClass distribution:\")\n",
    "print(f\"  Negative (0): {class_dist[0]} ({class_dist[0]/len(modeling_df)*100:.1f}%)\")\n",
    "print(f\"  Positive (1): {class_dist[1]} ({class_dist[1]/len(modeling_df)*100:.1f}%)\")\n",
    "\n",
    "# Check for class imbalance\n",
    "imbalance_ratio = class_dist[1] / class_dist[0]\n",
    "print(f\"  Imbalance ratio (pos/neg): {imbalance_ratio:.2f}\")"
   ]
  },
  {
   "cell_type": "markdown",
   "metadata": {},
   "source": [
    "## 3. Feature Engineering"
   ]
  },
  {
   "cell_type": "code",
   "execution_count": 5,
   "metadata": {},
   "outputs": [
    {
     "name": "stdout",
     "output_type": "stream",
     "text": [
      "Creating features from topic assignments...\n",
      "Using topic assignments from: all-MiniLM-L6-v2\n",
      "Creating features for 7 topics\n",
      "Topic features created: 7\n"
     ]
    }
   ],
   "source": [
    "print(\"Creating features from topic assignments...\")\n",
    "\n",
    "# Get topic probabilities from best BERTopic model\n",
    "best_bertopic_name = topic_results['best_models']['overall_best'].replace('BERTopic_', '')\n",
    "print(f\"Using topic assignments from: {best_bertopic_name}\")\n",
    "\n",
    "# Create topic features - one-hot encode topic assignments\n",
    "unique_topics = sorted(modeling_df['assigned_topic'].unique())\n",
    "print(f\"Creating features for {len(unique_topics)} topics\")\n",
    "\n",
    "# Create topic dummy variables\n",
    "for topic_id in unique_topics:\n",
    "    modeling_df[f'topic_{topic_id}'] = (modeling_df['assigned_topic'] == topic_id).astype(int)\n",
    "\n",
    "topic_features = [f'topic_{topic_id}' for topic_id in unique_topics]\n",
    "print(f\"Topic features created: {len(topic_features)}\")"
   ]
  },
  {
   "cell_type": "code",
   "execution_count": 6,
   "metadata": {},
   "outputs": [
    {
     "name": "stdout",
     "output_type": "stream",
     "text": [
      "Adding behavioural theme features...\n",
      "Creating feature for agent_personality: ['friendly', 'helpful', 'polite', 'lovely', 'nice', 'professional']\n",
      "  agent_personality mentions: 107 (37.0%)\n",
      "Creating feature for clarity: ['clear', 'explained', 'understand', 'easy', 'simple', 'straightforward']\n",
      "  clarity mentions: 54 (18.7%)\n",
      "Creating feature for reassurance: ['reassured', 'confident', 'trust', 'reliable', 'secure', 'comfortable']\n",
      "  reassurance mentions: 4 (1.4%)\n",
      "\n",
      "Behavioral features created: ['has_agent_personality', 'has_clarity', 'has_reassurance']\n"
     ]
    }
   ],
   "source": [
    "print(\"Adding behavioural theme features...\")\n",
    "\n",
    "# Get behavioral themes from config\n",
    "behavioral_themes = config.BEHAVIORAL_THEMES\n",
    "\n",
    "# Create behavioral theme features\n",
    "for theme_name, keywords in behavioral_themes.items():\n",
    "    print(f\"Creating feature for {theme_name}: {keywords}\")\n",
    "    \n",
    "    # Check if comment contains any of the theme keywords\n",
    "    modeling_df[f'has_{theme_name}'] = modeling_df['cleaned_comment'].apply(\n",
    "        lambda x: 1 if pd.notna(x) and any(keyword in x.lower() for keyword in keywords) else 0\n",
    "    )\n",
    "    \n",
    "    # Show distribution\n",
    "    theme_count = modeling_df[f'has_{theme_name}'].sum()\n",
    "    print(f\"  {theme_name} mentions: {theme_count} ({theme_count/len(modeling_df)*100:.1f}%)\")\n",
    "\n",
    "behavioral_features = [f'has_{theme}' for theme in behavioral_themes.keys()]\n",
    "print(f\"\\nBehavioral features created: {behavioral_features}\")"
   ]
  },
  {
   "cell_type": "code",
   "execution_count": 7,
   "metadata": {},
   "outputs": [
    {
     "name": "stdout",
     "output_type": "stream",
     "text": [
      "Adding metadata features...\n",
      "Metadata feature distributions:\n",
      "  is_pilot: 114 (39.4%)\n",
      "  is_volt: 117 (40.5%)\n",
      "  pilot_volt_interaction: 36 (12.5%)\n"
     ]
    }
   ],
   "source": [
    "print(\"Adding metadata features...\")\n",
    "\n",
    "# Treatment and segment features\n",
    "modeling_df['is_pilot'] = (modeling_df['treatment'] == 'pilot').astype(int)\n",
    "modeling_df['is_volt'] = (modeling_df['segment'] == 'VOLT').astype(int)\n",
    "\n",
    "# Interaction feature\n",
    "modeling_df['pilot_volt_interaction'] = modeling_df['is_pilot'] * modeling_df['is_volt']\n",
    "\n",
    "metadata_features = ['is_pilot', 'is_volt', 'pilot_volt_interaction']\n",
    "\n",
    "# Show feature distributions\n",
    "print(\"Metadata feature distributions:\")\n",
    "for feature in metadata_features:\n",
    "    count = modeling_df[feature].sum()\n",
    "    print(f\"  {feature}: {count} ({count/len(modeling_df)*100:.1f}%)\")"
   ]
  },
  {
   "cell_type": "code",
   "execution_count": 8,
   "metadata": {},
   "outputs": [
    {
     "name": "stdout",
     "output_type": "stream",
     "text": [
      "Compiling final feature matrix...\n",
      "Total features: 13\n",
      "  Topic features: 7\n",
      "  Behavioral features: 3\n",
      "  Metadata features: 3\n",
      "\n",
      "Feature matrix shape: (289, 13)\n",
      "Target variable shape: (289,)\n",
      "No missing values in feature matrix\n",
      "\n",
      "Feature matrix ready for modeling\n"
     ]
    }
   ],
   "source": [
    "print(\"Compiling final feature matrix...\")\n",
    "\n",
    "# Combine all features\n",
    "all_features = topic_features + behavioral_features + metadata_features\n",
    "\n",
    "print(f\"Total features: {len(all_features)}\")\n",
    "print(f\"  Topic features: {len(topic_features)}\")\n",
    "print(f\"  Behavioral features: {len(behavioral_features)}\")\n",
    "print(f\"  Metadata features: {len(metadata_features)}\")\n",
    "\n",
    "# Create feature matrix and target\n",
    "X = modeling_df[all_features].copy()\n",
    "y = modeling_df['sentiment_positive'].copy()\n",
    "\n",
    "print(f\"\\nFeature matrix shape: {X.shape}\")\n",
    "print(f\"Target variable shape: {y.shape}\")\n",
    "\n",
    "# Check for missing values\n",
    "missing_features = X.isnull().sum()\n",
    "if missing_features.any():\n",
    "    print(f\"Missing values found:\")\n",
    "    print(missing_features[missing_features > 0])\n",
    "else:\n",
    "    print(\"No missing values in feature matrix\")\n",
    "\n",
    "print(f\"\\nFeature matrix ready for modeling\")"
   ]
  },
  {
   "cell_type": "markdown",
   "metadata": {},
   "source": [
    "## 4. Model Training "
   ]
  },
  {
   "cell_type": "code",
   "execution_count": 9,
   "metadata": {},
   "outputs": [
    {
     "name": "stdout",
     "output_type": "stream",
     "text": [
      "Training set: 231 samples\n",
      "Test set: 58 samples\n",
      "\n",
      "Training set class distribution:\n",
      "sentiment_positive\n",
      "1    0.679654\n",
      "0    0.320346\n",
      "Name: proportion, dtype: float64\n",
      "\n",
      "Test set class distribution:\n",
      "sentiment_positive\n",
      "1    0.689655\n",
      "0    0.310345\n",
      "Name: proportion, dtype: float64\n"
     ]
    }
   ],
   "source": [
    "# Stratified split to maintain class balance\n",
    "X_train, X_test, y_train, y_test = train_test_split(\n",
    "    X, y, \n",
    "    test_size=0.2, \n",
    "    random_state=config.RANDOM_STATE,\n",
    "    stratify=y\n",
    ")\n",
    "\n",
    "print(f\"Training set: {X_train.shape[0]} samples\")\n",
    "print(f\"Test set: {X_test.shape[0]} samples\")\n",
    "\n",
    "# Check class distribution in splits\n",
    "print(f\"\\nTraining set class distribution:\")\n",
    "print(y_train.value_counts(normalize=True))\n",
    "\n",
    "print(f\"\\nTest set class distribution:\")\n",
    "print(y_test.value_counts(normalize=True))"
   ]
  },
  {
   "cell_type": "code",
   "execution_count": 10,
   "metadata": {},
   "outputs": [],
   "source": [
    "# Initialize models\n",
    "models = {\n",
    "    'Random Forest': RandomForestClassifier(\n",
    "        n_estimators=100,\n",
    "        max_depth=10,\n",
    "        random_state=config.RANDOM_STATE,\n",
    "        class_weight='balanced'\n",
    "    ),\n",
    "    'Logistic Regression': LogisticRegression(\n",
    "        random_state=config.RANDOM_STATE,\n",
    "        class_weight='balanced',\n",
    "        max_iter=1000\n",
    "    )\n",
    "}"
   ]
  },
  {
   "cell_type": "code",
   "execution_count": 11,
   "metadata": {},
   "outputs": [
    {
     "name": "stdout",
     "output_type": "stream",
     "text": [
      "\n",
      "Training Random Forest...\n",
      "  Training accuracy: 0.771\n",
      "  Test accuracy: 0.655\n",
      "  Test AUC: 0.804\n",
      "  Test F1 (positive): 0.730\n",
      "  Test F1 (negative): 0.524\n",
      "  Test Precision (positive): 0.794\n",
      "  Test Recall (positive): 0.675\n",
      "\n",
      "Training Logistic Regression...\n",
      "  Training accuracy: 0.714\n",
      "  Test accuracy: 0.724\n",
      "  Test AUC: 0.747\n",
      "  Test F1 (positive): 0.765\n",
      "  Test F1 (negative): 0.667\n",
      "  Test Precision (positive): 0.929\n",
      "  Test Recall (positive): 0.650\n"
     ]
    }
   ],
   "source": [
    "# Train and evaluate models\n",
    "model_results = {}\n",
    "\n",
    "for name, model in models.items():\n",
    "    print(f\"\\nTraining {name}...\")\n",
    "    \n",
    "    # Fit model\n",
    "    model.fit(X_train, y_train)\n",
    "    \n",
    "    # Predictions\n",
    "    train_pred = model.predict(X_train)\n",
    "    test_pred = model.predict(X_test)\n",
    "    test_proba = model.predict_proba(X_test)[:, 1]\n",
    "    \n",
    "    # Calculate comprehensive metrics\n",
    "    train_acc = accuracy_score(y_train, train_pred)\n",
    "    test_acc = accuracy_score(y_test, test_pred)\n",
    "    test_auc = roc_auc_score(y_test, test_proba)\n",
    "    test_f1 = f1_score(y_test, test_pred)\n",
    "    test_precision = precision_score(y_test, test_pred)\n",
    "    test_recall = recall_score(y_test, test_pred)\n",
    "    \n",
    "    # For imbalanced classes, also get metrics for negative class\n",
    "    test_f1_neg = f1_score(y_test, test_pred, pos_label=0)\n",
    "    test_precision_neg = precision_score(y_test, test_pred, pos_label=0)\n",
    "    test_recall_neg = recall_score(y_test, test_pred, pos_label=0)\n",
    "    \n",
    "    model_results[name] = {\n",
    "        'model': model,\n",
    "        'train_accuracy': train_acc,\n",
    "        'test_accuracy': test_acc,\n",
    "        'test_auc': test_auc,\n",
    "        'test_f1': test_f1,\n",
    "        'test_precision': test_precision,\n",
    "        'test_recall': test_recall,\n",
    "        'test_f1_neg': test_f1_neg,\n",
    "        'test_precision_neg': test_precision_neg,\n",
    "        'test_recall_neg': test_recall_neg,\n",
    "        'test_predictions': test_pred,\n",
    "        'test_probabilities': test_proba\n",
    "    }\n",
    "    \n",
    "    print(f\"  Training accuracy: {train_acc:.3f}\")\n",
    "    print(f\"  Test accuracy: {test_acc:.3f}\")\n",
    "    print(f\"  Test AUC: {test_auc:.3f}\")\n",
    "    print(f\"  Test F1 (positive): {test_f1:.3f}\")\n",
    "    print(f\"  Test F1 (negative): {test_f1_neg:.3f}\")\n",
    "    print(f\"  Test Precision (positive): {test_precision:.3f}\")\n",
    "    print(f\"  Test Recall (positive): {test_recall:.3f}\")"
   ]
  },
  {
   "cell_type": "markdown",
   "metadata": {},
   "source": [
    "The dataset is really small and it won't make sense to add a validation dataset because it will make further smaller chunks which will not be representative of the problem. The imbalance problem would make it worse. Additionally, the goal is understanding treatment effects and feature importance, not optimising predictive performance."
   ]
  },
  {
   "cell_type": "code",
   "execution_count": 12,
   "metadata": {},
   "outputs": [
    {
     "name": "stdout",
     "output_type": "stream",
     "text": [
      "Model comparison:\n",
      "               Random Forest  Logistic Regression\n",
      "Accuracy               0.655                0.724\n",
      "AUC                    0.804                0.747\n",
      "F1_positive            0.730                0.765\n",
      "F1_negative            0.524                0.667\n",
      "Precision_pos          0.794                0.929\n",
      "Recall_pos             0.675                0.650\n",
      "Precision_neg          0.458                0.533\n",
      "Recall_neg             0.611                0.889\n"
     ]
    }
   ],
   "source": [
    "# Create comparison dataframe\n",
    "comparison_df = pd.DataFrame({\n",
    "    name: {\n",
    "        'Accuracy': results['test_accuracy'],\n",
    "        'AUC': results['test_auc'],\n",
    "        'F1_positive': results['test_f1'],\n",
    "        'F1_negative': results['test_f1_neg'],\n",
    "        'Precision_pos': results['test_precision'],\n",
    "        'Recall_pos': results['test_recall'],\n",
    "        'Precision_neg': results['test_precision_neg'],\n",
    "        'Recall_neg': results['test_recall_neg']\n",
    "    }\n",
    "    for name, results in model_results.items()\n",
    "}).round(3)\n",
    "\n",
    "print(\"Model comparison:\")\n",
    "print(comparison_df)"
   ]
  },
  {
   "cell_type": "markdown",
   "metadata": {},
   "source": [
    "For imbalanced dataset problems, AUC and F1 scores are always prioritised as AUC can actually tell if the model is able to distinguish between the classes. F1 score is a combination of precision and recall where precision helps identify of all positive predictions, how many were actually positive and recall helps identify of all actual positives, how many did the model catch.\n",
    "\n",
    "Seeing the metrics above, there is even no need to do that, Logistic Regression is essentially outperforming Random Forest on all metrics. So, I'll take this as my \"gold-standard\" for the remaining analysis."
   ]
  },
  {
   "cell_type": "code",
   "execution_count": 13,
   "metadata": {},
   "outputs": [],
   "source": [
    "# Select best model\n",
    "best_model_name = 'Logistic Regression'\n",
    "best_model_info = model_results[best_model_name]\n",
    "best_model = best_model_info['model']"
   ]
  },
  {
   "cell_type": "markdown",
   "metadata": {},
   "source": [
    "## 5. Model Performance"
   ]
  },
  {
   "cell_type": "markdown",
   "metadata": {},
   "source": [
    "### 5.1 Additional Classification Metrics"
   ]
  },
  {
   "cell_type": "code",
   "execution_count": 14,
   "metadata": {},
   "outputs": [
    {
     "name": "stdout",
     "output_type": "stream",
     "text": [
      "Detailed performance analysis for Logistic Regression...\n",
      "Classification Report:\n",
      "              precision    recall  f1-score   support\n",
      "\n",
      "Not Positive       0.53      0.89      0.67        18\n",
      "    Positive       0.93      0.65      0.76        40\n",
      "\n",
      "    accuracy                           0.72        58\n",
      "   macro avg       0.73      0.77      0.72        58\n",
      "weighted avg       0.81      0.72      0.73        58\n",
      "\n",
      "\n",
      "Confusion Matrix:\n",
      "Predicted:    Not Pos  Positive\n",
      "Not Pos:         16        2\n",
      "Positive:        14       26\n"
     ]
    }
   ],
   "source": [
    "print(f\"Detailed performance analysis for {best_model_name}...\")\n",
    "\n",
    "# Detailed classification report\n",
    "print(\"Classification Report:\")\n",
    "print(classification_report(y_test, best_model_info['test_predictions'], \n",
    "                          target_names=['Not Positive', 'Positive']))\n",
    "\n",
    "# Confusion matrix\n",
    "cm = confusion_matrix(y_test, best_model_info['test_predictions'])\n",
    "print(f\"\\nConfusion Matrix:\")\n",
    "print(\"Predicted:    Not Pos  Positive\")\n",
    "print(f\"Not Pos:         {cm[0,0]:2d}       {cm[0,1]:2d}\")\n",
    "print(f\"Positive:        {cm[1,0]:2d}       {cm[1,1]:2d}\")"
   ]
  },
  {
   "cell_type": "code",
   "execution_count": 15,
   "metadata": {},
   "outputs": [
    {
     "name": "stdout",
     "output_type": "stream",
     "text": [
      "\n",
      "Additional metrics:\n",
      "  Sensitivity (True Positive Rate): 0.650\n",
      "  Specificity (True Negative Rate): 0.889\n",
      "  False Positive Rate: 0.111\n",
      "  False Negative Rate: 0.350\n"
     ]
    }
   ],
   "source": [
    "# Calculate additional metrics\n",
    "tn, fp, fn, tp = cm.ravel()\n",
    "specificity = tn / (tn + fp)\n",
    "sensitivity = tp / (tp + fn)\n",
    "\n",
    "print(f\"\\nAdditional metrics:\")\n",
    "print(f\"  Sensitivity (True Positive Rate): {sensitivity:.3f}\")\n",
    "print(f\"  Specificity (True Negative Rate): {specificity:.3f}\")\n",
    "print(f\"  False Positive Rate: {fp/(fp+tn):.3f}\")\n",
    "print(f\"  False Negative Rate: {fn/(fn+tp):.3f}\")"
   ]
  },
  {
   "cell_type": "code",
   "execution_count": 16,
   "metadata": {},
   "outputs": [
    {
     "name": "stdout",
     "output_type": "stream",
     "text": [
      "Saved: ../outputs/figures/confusion_matrix.png\n"
     ]
    },
    {
     "data": {
      "image/png": "[encoded data removed]",
      "text/plain": [
       "<Figure size 800x600 with 2 Axes>"
      ]
     },
     "metadata": {},
     "output_type": "display_data"
    }
   ],
   "source": [
    "# Plot confusion matrix\n",
    "plt.figure(figsize=(8, 6))\n",
    "sns.heatmap(cm, annot=True, fmt='d', cmap='Blues', \n",
    "            xticklabels=['Not Positive', 'Positive'],\n",
    "            yticklabels=['Not Positive', 'Positive'])\n",
    "plt.title(f'Confusion Matrix - {best_model_name}')\n",
    "plt.ylabel('True Label')\n",
    "plt.xlabel('Predicted Label')\n",
    "save_figure('confusion_matrix')\n",
    "plt.show()"
   ]
  },
  {
   "cell_type": "markdown",
   "metadata": {},
   "source": [
    "### 5.2 ROC-AUC Curve"
   ]
  },
  {
   "cell_type": "code",
   "execution_count": 17,
   "metadata": {},
   "outputs": [
    {
     "name": "stdout",
     "output_type": "stream",
     "text": [
      "Saved: ../outputs/figures/roc_curve.png\n"
     ]
    },
    {
     "data": {
      "image/png": "[encoded data removed]",
      "text/plain": [
       "<Figure size 800x600 with 1 Axes>"
      ]
     },
     "metadata": {},
     "output_type": "display_data"
    }
   ],
   "source": [
    "# Calculate ROC curve\n",
    "fpr, tpr, thresholds = roc_curve(y_test, best_model_info['test_probabilities'])\n",
    "auc_score = best_model_info['test_auc']\n",
    "\n",
    "# Plot ROC curve\n",
    "plt.figure(figsize=(8, 6))\n",
    "plt.plot(fpr, tpr, color='blue', lw=2, label=f'ROC Curve (AUC = {auc_score:.3f})')\n",
    "plt.plot([0, 1], [0, 1], color='red', lw=2, linestyle='--', label='Random Classifier')\n",
    "plt.xlim([0.0, 1.0])\n",
    "plt.ylim([0.0, 1.05])\n",
    "plt.xlabel('False Positive Rate')\n",
    "plt.ylabel('True Positive Rate')\n",
    "plt.title(f'ROC Curve - {best_model_name}')\n",
    "plt.legend(loc=\"lower right\")\n",
    "plt.grid(True, alpha=0.3)\n",
    "save_figure('roc_curve')\n",
    "plt.show()"
   ]
  },
  {
   "cell_type": "markdown",
   "metadata": {},
   "source": [
    "**Key Insights:**\n",
    "\n",
    "* The AUC of 0.747 shows fair discrimination abilities.\n",
    "\n",
    "* For negative class, high specificity (0.889) the model is good at correctly identifying truly negative sentiment. However, low precision shows only a bit more than half of \"not positive\" predictions are actually correct.\n",
    "\n",
    "* For positive class, a high precision score (0.93) shows when model predicts positive, it's quite accurate. A 65% recall shows that it misses 35% of positive cases.\n",
    "\n",
    "**Business Implications:**\n",
    "\n",
    "* Highly reliable positive predictions - 93% precision means positive sentiment predictions are trustworthy\n",
    "\n",
    "* Good negative detection - ~89% recall for negative cases means we catch most dissatisfied customers\n",
    "\n",
    "* Fair discriminative power - AUC of 0.747 shows genuine learning, not just class imbalance exploitation\n",
    "\n",
    "* High false positive rate for negative class - 47% of \"not positive\" predictions are wrong\n",
    "\n",
    "* Missing positive sentiment - 35% false negative rate means we miss some satisfied customers"
   ]
  },
  {
   "cell_type": "markdown",
   "metadata": {},
   "source": [
    "### 5.3 Feature Importance"
   ]
  },
  {
   "cell_type": "code",
   "execution_count": 18,
   "metadata": {},
   "outputs": [
    {
     "name": "stdout",
     "output_type": "stream",
     "text": [
      "Top 15 most important features (Absolute Coefficient):\n",
      "                   feature  coefficient  importance\n",
      "2                  topic_2    -1.474032    1.474032\n",
      "0                  topic_0    -1.315351    1.315351\n",
      "5                  topic_5     1.314352    1.314352\n",
      "1                  topic_1     1.308352    1.308352\n",
      "7    has_agent_personality     0.892075    0.892075\n",
      "8              has_clarity     0.608643    0.608643\n",
      "6                  topic_6    -0.536172    0.536172\n",
      "12  pilot_volt_interaction    -0.396875    0.396875\n",
      "4                  topic_4     0.382758    0.382758\n",
      "10                is_pilot    -0.377717    0.377717\n",
      "3                  topic_3     0.330855    0.330855\n",
      "9          has_reassurance    -0.210884    0.210884\n",
      "11                 is_volt    -0.209542    0.209542\n"
     ]
    }
   ],
   "source": [
    "if best_model_name == 'Random Forest':\n",
    "    # Get feature importance from Random Forest\n",
    "    feature_importance = pd.DataFrame({\n",
    "        'feature': all_features,\n",
    "        'importance': best_model.feature_importances_\n",
    "    }).sort_values('importance', ascending=False)\n",
    "    \n",
    "    importance_type = \"Gini Importance\"\n",
    "    \n",
    "elif best_model_name == 'Logistic Regression':\n",
    "    # Get coefficients from Logistic Regression\n",
    "    feature_importance = pd.DataFrame({\n",
    "        'feature': all_features,\n",
    "        'coefficient': best_model.coef_[0],\n",
    "        'importance': np.abs(best_model.coef_[0])\n",
    "    }).sort_values('importance', ascending=False)\n",
    "    \n",
    "    importance_type = \"Absolute Coefficient\"\n",
    "\n",
    "print(f\"Top 15 most important features ({importance_type}):\")\n",
    "print(feature_importance.head(15))"
   ]
  },
  {
   "cell_type": "code",
   "execution_count": 19,
   "metadata": {},
   "outputs": [
    {
     "name": "stdout",
     "output_type": "stream",
     "text": [
      "\n",
      "Feature importance by category:\n",
      "            count     sum    mean\n",
      "category                         \n",
      "Behavioral      3  1.7116  0.5705\n",
      "Metadata        3  0.9841  0.3280\n",
      "Topic           7  6.6619  0.9517\n"
     ]
    }
   ],
   "source": [
    "# Categorize features for analysis\n",
    "feature_categories = []\n",
    "for feature in feature_importance['feature']:\n",
    "    if feature.startswith('topic_'):\n",
    "        category = 'Topic'\n",
    "    elif feature.startswith('has_'):\n",
    "        category = 'Behavioral'\n",
    "    else:\n",
    "        category = 'Metadata'\n",
    "    feature_categories.append(category)\n",
    "\n",
    "feature_importance['category'] = feature_categories\n",
    "\n",
    "print(f\"\\nFeature importance by category:\")\n",
    "category_importance = feature_importance.groupby('category')['importance'].agg(['count', 'sum', 'mean']).round(4)\n",
    "print(category_importance)"
   ]
  },
  {
   "cell_type": "code",
   "execution_count": 20,
   "metadata": {},
   "outputs": [
    {
     "name": "stdout",
     "output_type": "stream",
     "text": [
      "Saved: ../outputs/figures/feature_importance.png\n"
     ]
    },
    {
     "data": {
      "image/png": "[encoded data removed]",
      "text/plain": [
       "<Figure size 1200x800 with 1 Axes>"
      ]
     },
     "metadata": {},
     "output_type": "display_data"
    }
   ],
   "source": [
    "# Plot feature importance\n",
    "plt.figure(figsize=(12, 8))\n",
    "top_features = feature_importance.head(15)\n",
    "colors = ['blue' if cat == 'Topic' else 'green' if cat == 'Behavioral' else 'orange' \n",
    "          for cat in top_features['category']]\n",
    "bars = plt.barh(range(len(top_features)), top_features['importance'], color=colors)\n",
    "plt.yticks(range(len(top_features)), top_features['feature'])\n",
    "plt.xlabel(f'{importance_type}')\n",
    "plt.title(f'Top 15 Feature Importance - {best_model_name}')\n",
    "plt.gca().invert_yaxis()\n",
    "\n",
    "# Add legend\n",
    "import matplotlib.patches as mpatches\n",
    "topic_patch = mpatches.Patch(color='blue', label='Topic Features')\n",
    "behavioral_patch = mpatches.Patch(color='green', label='Behavioral Features')\n",
    "metadata_patch = mpatches.Patch(color='orange', label='Metadata Features')\n",
    "plt.legend(handles=[topic_patch, behavioral_patch, metadata_patch], loc='lower right')\n",
    "\n",
    "save_figure('feature_importance')\n",
    "plt.show()"
   ]
  },
  {
   "cell_type": "markdown",
   "metadata": {},
   "source": [
    "**Key Insights:**\n",
    "\n",
    "* Topic 2 (\"helpful, friendly, explained, lady, spoke\") is now the most important feature for Logistic Regression model, followed by Topic 0 (\"company, call, would, phone, broadband\") and Topic 5 (\"price, good, great, reasonable, value\"). This indicates that technical support quality (Topic 2) and service excellence mentions strongly determine sentiment.\n",
    "\n",
    "* Agent personality (#5 predictor) and clarity (#6 predictor) are the only behavioural features in top predictors. Comments about \"friendly, helpful, polite\" staff and \"clear explanations\" drive positive sentiment.\n",
    "\n",
    "* `is_pilot` ranks #10 confirming the script meaningfully impacts sentiment. `pilot_volt_interaction` at #8 shows differential effects between customer segments. This validates our earlier finding that the pilot script reduces sentiment across groups.\n",
    "\n",
    "**Business Implication:**\n",
    "\n",
    "Technical support and service quality topics dominate the top 4 predictors, while agent behavior remains critical. The pilot script still ranks in top 10 predictors with concerning negative effects. Focus should be on technical support training, service excellence, and agent communication skills rather than just script optimisation."
   ]
  },
  {
   "cell_type": "markdown",
   "metadata": {},
   "source": [
    "## 6. Treatment Effect Analysis "
   ]
  },
  {
   "cell_type": "code",
   "execution_count": 21,
   "metadata": {},
   "outputs": [
    {
     "name": "stdout",
     "output_type": "stream",
     "text": [
      "\n",
      "============================================================\n",
      "TREATMENT EFFECT ANALYSIS\n",
      "============================================================\n",
      "Analysing treatment effects controlling for confounders...\n",
      "Treatment analysis on 422 samples\n",
      "Treatment effect regression results:\n",
      "            variable  coefficient  abs_coefficient\n",
      "0  treatment_control     0.027304         0.027304\n",
      "1    treatment_pilot    -0.027304         0.027304\n",
      "3       segment_VOLT    -0.025766         0.025766\n",
      "2   segment_Non-VOLT     0.025766         0.025766\n"
     ]
    }
   ],
   "source": [
    "print_section_header(\"Treatment Effect Analysis\")\n",
    "\n",
    "# Statistical modeling controlling for segments\n",
    "print(\"Analysing treatment effects controlling for confounders...\")\n",
    "\n",
    "# Use continuous sentiment as outcome for treatment effect analysis\n",
    "treatment_df = df.copy()\n",
    "\n",
    "# Create design matrix for treatment effect\n",
    "X_treatment = pd.get_dummies(treatment_df[['treatment', 'segment']], drop_first=False)\n",
    "y_sentiment = treatment_df['sentiment_textblob'].dropna()\n",
    "\n",
    "# Align X and y\n",
    "treatment_mask = treatment_df['sentiment_textblob'].notna()\n",
    "X_treatment = X_treatment[treatment_mask]\n",
    "\n",
    "print(f\"Treatment analysis on {len(y_sentiment)} samples\")\n",
    "\n",
    "# Fit regression model\n",
    "treatment_model = LinearRegression()\n",
    "treatment_model.fit(X_treatment, y_sentiment)\n",
    "\n",
    "# Extract coefficients\n",
    "coef_df = pd.DataFrame({\n",
    "    'variable': X_treatment.columns,\n",
    "    'coefficient': treatment_model.coef_,\n",
    "    'abs_coefficient': np.abs(treatment_model.coef_)\n",
    "}).sort_values('abs_coefficient', ascending=False)\n",
    "\n",
    "print(\"Treatment effect regression results:\")\n",
    "print(coef_df)"
   ]
  },
  {
   "cell_type": "markdown",
   "metadata": {},
   "source": [
    "**Key Insights:**\n",
    "\n",
    "* Pilot script reduces sentiment by 0.027 points. This confirms our earlier statistical analysis showing consistent negative effects across groups, now controlling for segment differences.\n",
    "\n",
    "* VOLT customers have 0.026 points lower baseline sentiment than Non-VOLT customers. This reveals that premium customers are inherently less satisfied, independent of which script they receive.\n",
    "\n",
    "In a nutshell, the new script consistently harms sentiment across both customer segments, while VOLT customers are already less satisfied than regular customers regardless of treatment."
   ]
  },
  {
   "cell_type": "code",
   "execution_count": 22,
   "metadata": {},
   "outputs": [
    {
     "name": "stdout",
     "output_type": "stream",
     "text": [
      "Testing treatment x segment interaction effects...\n"
     ]
    }
   ],
   "source": [
    "print(\"Testing treatment x segment interaction effects...\")\n",
    "\n",
    "# Create interaction terms manually for clearer interpretation\n",
    "volt_control = ((treatment_df['segment'] == 'VOLT') & \n",
    "               (treatment_df['treatment'] == 'control')).astype(int)\n",
    "volt_pilot = ((treatment_df['segment'] == 'VOLT') & \n",
    "              (treatment_df['treatment'] == 'pilot')).astype(int)\n",
    "nonvolt_control = ((treatment_df['segment'] == 'Non-VOLT') & \n",
    "                   (treatment_df['treatment'] == 'control')).astype(int)\n",
    "nonvolt_pilot = ((treatment_df['segment'] == 'Non-VOLT') & \n",
    "                 (treatment_df['treatment'] == 'pilot')).astype(int)"
   ]
  },
  {
   "cell_type": "code",
   "execution_count": 23,
   "metadata": {},
   "outputs": [
    {
     "name": "stdout",
     "output_type": "stream",
     "text": [
      "Interaction effects analysis:\n",
      "             Group  Mean_Sentiment  Sample_Size\n",
      "0     VOLT_Control           0.315          115\n",
      "1       VOLT_Pilot           0.249           55\n",
      "2  NonVOLT_Control           0.360          132\n",
      "3    NonVOLT_Pilot           0.312          120\n"
     ]
    }
   ],
   "source": [
    "# Group means for interpretation\n",
    "interaction_results = pd.DataFrame({\n",
    "    'Group': ['VOLT_Control', 'VOLT_Pilot', 'NonVOLT_Control', 'NonVOLT_Pilot'],\n",
    "    'Mean_Sentiment': [\n",
    "        treatment_df[(treatment_df['segment'] == 'VOLT') & \n",
    "                    (treatment_df['treatment'] == 'control')]['sentiment_textblob'].mean(),\n",
    "        treatment_df[(treatment_df['segment'] == 'VOLT') & \n",
    "                    (treatment_df['treatment'] == 'pilot')]['sentiment_textblob'].mean(),\n",
    "        treatment_df[(treatment_df['segment'] == 'Non-VOLT') & \n",
    "                    (treatment_df['treatment'] == 'control')]['sentiment_textblob'].mean(),\n",
    "        treatment_df[(treatment_df['segment'] == 'Non-VOLT') & \n",
    "                    (treatment_df['treatment'] == 'pilot')]['sentiment_textblob'].mean()\n",
    "    ],\n",
    "    'Sample_Size': [\n",
    "        len(treatment_df[(treatment_df['segment'] == 'VOLT') & \n",
    "                        (treatment_df['treatment'] == 'control')]),\n",
    "        len(treatment_df[(treatment_df['segment'] == 'VOLT') & \n",
    "                        (treatment_df['treatment'] == 'pilot')]),\n",
    "        len(treatment_df[(treatment_df['segment'] == 'Non-VOLT') & \n",
    "                        (treatment_df['treatment'] == 'control')]),\n",
    "        len(treatment_df[(treatment_df['segment'] == 'Non-VOLT') & \n",
    "                        (treatment_df['treatment'] == 'pilot')])\n",
    "    ]\n",
    "})\n",
    "\n",
    "print(\"Interaction effects analysis:\")\n",
    "print(interaction_results.round(3))"
   ]
  },
  {
   "cell_type": "code",
   "execution_count": 24,
   "metadata": {},
   "outputs": [
    {
     "name": "stdout",
     "output_type": "stream",
     "text": [
      "\n",
      "Treatment effects by segment:\n",
      "  VOLT treatment effect: -0.066\n",
      "  Non-VOLT treatment effect: -0.048\n",
      "  Interaction difference: -0.018\n"
     ]
    }
   ],
   "source": [
    "# Calculate treatment effects by segment\n",
    "volt_effect = (interaction_results.loc[1, 'Mean_Sentiment'] - \n",
    "               interaction_results.loc[0, 'Mean_Sentiment'])\n",
    "nonvolt_effect = (interaction_results.loc[3, 'Mean_Sentiment'] - \n",
    "                  interaction_results.loc[2, 'Mean_Sentiment'])\n",
    "\n",
    "print(f\"\\nTreatment effects by segment:\")\n",
    "print(f\"  VOLT treatment effect: {volt_effect:+.3f}\")\n",
    "print(f\"  Non-VOLT treatment effect: {nonvolt_effect:+.3f}\")\n",
    "print(f\"  Interaction difference: {volt_effect - nonvolt_effect:+.3f}\")"
   ]
  },
  {
   "cell_type": "markdown",
   "metadata": {},
   "source": [
    "**Key Insights:**\n",
    "\n",
    "* VOLT customers show 38% stronger negative reaction to the pilot script (-0.066 vs -0.048) - Premium customers are more sensitive to script changes.\n",
    "\n",
    "* Both segments experience sentiment reduction with the pilot script, confirming this isn't a random effect but a systematic issue with the new approach.\n",
    "\n",
    "More importantly, while the script harms both customer types, the effect is stronger for high-value VOLT customers. "
   ]
  },
  {
   "cell_type": "markdown",
   "metadata": {},
   "source": [
    "## 7. Result Compilation and Data Export"
   ]
  },
  {
   "cell_type": "code",
   "execution_count": 25,
   "metadata": {},
   "outputs": [],
   "source": [
    "# Create treatment effects summary from interaction analysis\n",
    "treatment_effects = {\n",
    "    'overall_pilot_effect': -0.027304,  # From regression analysis\n",
    "    'volt_effect': volt_effect,\n",
    "    'nonvolt_effect': nonvolt_effect,\n",
    "    'interaction_difference': volt_effect - nonvolt_effect,\n",
    "    'group_means': interaction_results.to_dict('records')\n",
    "}"
   ]
  },
  {
   "cell_type": "code",
   "execution_count": 26,
   "metadata": {},
   "outputs": [
    {
     "name": "stdout",
     "output_type": "stream",
     "text": [
      "Saved processed data: ../data/processed/modeling_dataframe.csv\n",
      "Saved processed data: ../data/processed/final_results.pkl\n"
     ]
    }
   ],
   "source": [
    "# Create simplified results for saving (without model object)\n",
    "final_results_for_saving = {\n",
    "    'model_name': best_model_name,\n",
    "    'performance': {\n",
    "        'accuracy': best_model_info['test_accuracy'],\n",
    "        'auc': best_model_info['test_auc'],\n",
    "        'f1_positive': best_model_info['test_f1'],\n",
    "        'f1_negative': best_model_info['test_f1_neg'],\n",
    "        'precision_positive': best_model_info['test_precision'],\n",
    "        'recall_positive': best_model_info['test_recall']\n",
    "    },\n",
    "    'treatment_effects': treatment_effects,\n",
    "    'top_features': feature_importance.head(10).to_dict('records'),\n",
    "    'interaction_results': interaction_results.to_dict('records')\n",
    "}\n",
    "\n",
    "# Save the modeling dataframe separately\n",
    "save_processed_data(modeling_df, 'modeling_dataframe.csv')\n",
    "\n",
    "# Save results as pickle since it contains nested dictionaries\n",
    "save_processed_data(final_results_for_saving, 'final_results.pkl')"
   ]
  }
 ],
 "metadata": {
  "kernelspec": {
   "display_name": "cowry_assignment",
   "language": "python",
   "name": "python3"
  },
  "language_info": {
   "codemirror_mode": {
    "name": "ipython",
    "version": 3
   },
   "file_extension": ".py",
   "mimetype": "text/x-python",
   "name": "python",
   "nbconvert_exporter": "python",
   "pygments_lexer": "ipython3",
   "version": "3.10.18"
  }
 },
 "nbformat": 4,
 "nbformat_minor": 2
}
